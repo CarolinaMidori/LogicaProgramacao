{
  "nbformat": 4,
  "nbformat_minor": 0,
  "metadata": {
    "colab": {
      "provenance": []
    },
    "kernelspec": {
      "name": "python3",
      "display_name": "Python 3"
    },
    "language_info": {
      "name": "python"
    }
  },
  "cells": [
    {
      "cell_type": "markdown",
      "source": [
        "Simulação de cálculo de IMC\n",
        "* Operações matemáticas utilizadas: multiplicação, divisão e subtração;\n",
        "* Utilizada condicional IF/ELIF\n",
        "* Print para o resultado dos cálculos."
      ],
      "metadata": {
        "id": "m6gLPa_ISi9R"
      }
    },
    {
      "cell_type": "code",
      "execution_count": 28,
      "metadata": {
        "colab": {
          "base_uri": "https://localhost:8080/"
        },
        "id": "zE6ecgMVPP_d",
        "outputId": "32edda2e-be1e-4b03-e73f-ed9655059266"
      },
      "outputs": [
        {
          "name": "stdout",
          "output_type": "stream",
          "text": [
            "Digite seu nome:Maria\n"
          ]
        }
      ],
      "source": [
        "nome = input(\"Digite seu nome:\")#Inclusão do nome do paciente\n"
      ]
    },
    {
      "cell_type": "code",
      "source": [
        "altura = input(\"Digite sua altura:\")#Inclusão da altura do paciente\n",
        "valor_convert = float(altura)"
      ],
      "metadata": {
        "colab": {
          "base_uri": "https://localhost:8080/"
        },
        "id": "Gnk0xvaJQ-H0",
        "outputId": "1716b71b-425c-4384-9322-660451097646"
      },
      "execution_count": 30,
      "outputs": [
        {
          "name": "stdout",
          "output_type": "stream",
          "text": [
            "Digite sua altura:1.6\n"
          ]
        }
      ]
    },
    {
      "cell_type": "code",
      "source": [
        "peso = input(\"Digite seu peso:\")#Inclusão do peso do paciente\n",
        "valor_convert = float(peso)"
      ],
      "metadata": {
        "colab": {
          "base_uri": "https://localhost:8080/"
        },
        "id": "HiwMDz2BUyWw",
        "outputId": "26ec8f99-1c1f-4a6d-b966-6a1336ff5467"
      },
      "execution_count": 59,
      "outputs": [
        {
          "name": "stdout",
          "output_type": "stream",
          "text": [
            "Digite seu peso:90\n"
          ]
        }
      ]
    },
    {
      "cell_type": "code",
      "source": [
        "alturaimc = float(altura)*float(altura) #variável para o cálculo de imc (altura ao quadrado)\n",
        "print(alturaimc)\n",
        "imc = float(peso)/(alturaimc) #cálculo do imc\n",
        "print(imc)\n",
        "if(imc <= 25): #condicional para indicar classificação do imc\n",
        "  print(nome,\",\",\"sua altura é de\", altura, \"m.\", \" Seu peso é de\",peso,\"kg.\",\" O valor do IMC calculado foi de\",imc, \"que é classificado como normal.\")\n",
        "elif(imc > 25 and imc < 30):\n",
        "  imcideal1 = imc - 25\n",
        "  print(nome,\",\",\"sua altura é \", altura, \"m.\", \"Seu peso é de\",peso,\"kg.\",\" O valor do IMC calculado foi de\",imc, \"que é classificado como sobrepeso,\", \"estando\", imcideal1, \"acima do recomendado.\")\n",
        "else:\n",
        "  imcideal2 = imc - 30\n",
        "  print(nome,\",\",\"sua altura é \", altura, \"m.\", \"Seu peso é de\",peso,\"kg.\",\" O valor do IMC calculado foi de\",imc, \"que é classificado como obesidade,\", \"estando\", imcideal2, \"acima do que é considerado como sobrepeso.\")"
      ],
      "metadata": {
        "colab": {
          "base_uri": "https://localhost:8080/"
        },
        "id": "2nqNRhvNWkJZ",
        "outputId": "72a1343a-a27f-46c2-b879-e634f027cd02"
      },
      "execution_count": 65,
      "outputs": [
        {
          "output_type": "stream",
          "name": "stdout",
          "text": [
            "2.5600000000000005\n",
            "35.15624999999999\n",
            "Maria , sua altura é  1.6 m. Seu peso é de 90 kg.  O valor do IMC calculado foi de 35.15624999999999 que é classificado como obesidade estando 5.156249999999993 acima do que é considerado como sobrepeso.\n"
          ]
        }
      ]
    }
  ]
}